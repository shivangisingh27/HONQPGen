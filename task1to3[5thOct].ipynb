{
  "nbformat": 4,
  "nbformat_minor": 0,
  "metadata": {
    "colab": {
      "provenance": []
    },
    "kernelspec": {
      "name": "python3",
      "display_name": "Python 3"
    },
    "language_info": {
      "name": "python"
    }
  },
  "cells": [
    {
      "cell_type": "code",
      "execution_count": 1,
      "metadata": {
        "colab": {
          "base_uri": "https://localhost:8080/"
        },
        "id": "5NOcnYMgy7Sk",
        "outputId": "6c29b40d-7acf-41b1-8445-b909f4ea0895"
      },
      "outputs": [
        {
          "output_type": "stream",
          "name": "stdout",
          "text": [
            "Collecting javalang\n",
            "  Downloading javalang-0.13.0-py3-none-any.whl (22 kB)\n",
            "Requirement already satisfied: six in /usr/local/lib/python3.10/dist-packages (from javalang) (1.16.0)\n",
            "Installing collected packages: javalang\n",
            "Successfully installed javalang-0.13.0\n"
          ]
        }
      ],
      "source": [
        "!pip install javalang"
      ]
    },
    {
      "cell_type": "code",
      "source": [
        "import javalang\n",
        "\n",
        "# Java code snippet input\n",
        "java_code = \"\"\"\n",
        "public boolean isValidPatient() {\n",
        "        boolean b = age >= 0 && age <= 120 && email.endsWith(\"@gmail.com\");\n",
        "        return b;\n",
        "    }\n",
        "\"\"\"\n",
        "\n",
        "tokens = list(javalang.tokenizer.tokenize(java_code))\n",
        "\n",
        "# Display tokens\n",
        "for token in tokens:\n",
        "    print(token.value, end='\\n')\n"
      ],
      "metadata": {
        "colab": {
          "base_uri": "https://localhost:8080/"
        },
        "id": "63IHLo5NzVEd",
        "outputId": "d8392081-5412-492f-b75a-57db3b3aa3c4"
      },
      "execution_count": 2,
      "outputs": [
        {
          "output_type": "stream",
          "name": "stdout",
          "text": [
            "public\n",
            "boolean\n",
            "isValidPatient\n",
            "(\n",
            ")\n",
            "{\n",
            "boolean\n",
            "b\n",
            "=\n",
            "age\n",
            ">=\n",
            "0\n",
            "&&\n",
            "age\n",
            "<=\n",
            "120\n",
            "&&\n",
            "email\n",
            ".\n",
            "endsWith\n",
            "(\n",
            "\"@gmail.com\"\n",
            ")\n",
            ";\n",
            "return\n",
            "b\n",
            ";\n",
            "}\n"
          ]
        }
      ]
    },
    {
      "cell_type": "code",
      "source": [
        "import javalang\n",
        "\n",
        "# Java code snippet input\n",
        "java_code = \"\"\"\n",
        "public class HelloWorld {\n",
        "    public static void main(String[] args) {\n",
        "        System.out.println(\"Hello, World!\");\n",
        "    }\n",
        "\n",
        "    public void myMethod() {\n",
        "        // Method implementation here\n",
        "    }\n",
        "}\n",
        "\"\"\"\n",
        "\n",
        "tree = javalang.parse.parse(java_code)\n",
        "\n",
        "# Traverse the AST to find method names\n",
        "for path, node in tree:\n",
        "    if isinstance(node, javalang.tree.MethodDeclaration):\n",
        "        print(\"Method Name:\", node.name)\n"
      ],
      "metadata": {
        "colab": {
          "base_uri": "https://localhost:8080/"
        },
        "id": "himzXQy3zmvo",
        "outputId": "b3077aee-9d5d-4d20-8f1e-0677033086a9"
      },
      "execution_count": null,
      "outputs": [
        {
          "output_type": "stream",
          "name": "stdout",
          "text": [
            "Method Name: main\n",
            "Method Name: myMethod\n"
          ]
        }
      ]
    },
    {
      "cell_type": "code",
      "source": [
        "import javalang\n",
        "\n",
        "# Java code snippet input\n",
        "java_code = \"\"\"\n",
        "import java.util.ArrayList;\n",
        "public class Patient {\n",
        " private String name;\n",
        " private int age;\n",
        " private String address;\n",
        " private ArrayList<String> facilitiesUsed;\n",
        " private double totalBill;\n",
        " public Patient(String name, int age, String address) {\n",
        " this.name = name;\n",
        " this.age = age;\n",
        " this.address = address;\n",
        " this.facilitiesUsed = new ArrayList<>();\n",
        " this.totalBill = 0.0;\n",
        " }\n",
        " public boolean isValidPatient() {\n",
        " return age >= 0 && age <= 120;\n",
        " }\n",
        " public void calculateBill() {\n",
        " for (String facility : facilitiesUsed) {\n",
        " if (facility.equals(\"X-Ray\")) {\n",
        " totalBill += 100.0;\n",
        " } else if (facility.equals(\"MRI\")) {\n",
        " totalBill += 200.0;\n",
        " } }\n",
        " }\n",
        " public void addFacility(String facilityName, double cost) {\n",
        " facilitiesUsed.add(facilityName);\n",
        " totalBill += cost;\n",
        " }\n",
        "\n",
        " public String getName() {\n",
        " return name;\n",
        " }\n",
        " public int getAge() {\n",
        " return age;\n",
        " }\n",
        " public String getAddress() {\n",
        " return address;\n",
        " }\n",
        " public double getTotalBill() {\n",
        " return totalBill;\n",
        " }\n",
        "}\n",
        "\"\"\"\n",
        "\n",
        "tree = javalang.parse.parse(java_code)\n",
        "\n",
        "# Iterate through the classes and their methods\n",
        "for path, node in tree:\n",
        "    if isinstance(node, javalang.tree.ClassDeclaration):\n",
        "        class_name = node.name\n",
        "        print(\"Class Name:\", class_name)\n",
        "    elif isinstance(node, javalang.tree.MethodDeclaration):\n",
        "        method_name = node.name\n",
        "        print(\"Method Name:\", method_name)\n"
      ],
      "metadata": {
        "colab": {
          "base_uri": "https://localhost:8080/"
        },
        "id": "sT2k9mxK1sl7",
        "outputId": "a048e08d-729c-4947-9a05-a055f4e34e49"
      },
      "execution_count": null,
      "outputs": [
        {
          "output_type": "stream",
          "name": "stdout",
          "text": [
            "Class Name: Patient\n",
            "Method Name: isValidPatient\n",
            "Method Name: calculateBill\n",
            "Method Name: addFacility\n",
            "Method Name: getName\n",
            "Method Name: getAge\n",
            "Method Name: getAddress\n",
            "Method Name: getTotalBill\n"
          ]
        }
      ]
    }
  ]
}