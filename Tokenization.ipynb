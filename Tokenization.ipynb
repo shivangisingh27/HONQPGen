{
 "cells": [
  {
   "cell_type": "code",
   "execution_count": 1,
   "metadata": {},
   "outputs": [],
   "source": [
    "text='''public class Patient{\n",
    "    public boolean isValidPatient() {\n",
    "        boolean b = age >= 0 && age <= 120 && email.endsWith(\"@gmail.com\");\n",
    "        return b;\n",
    "    }}'''"
   ]
  },
  {
   "cell_type": "code",
   "execution_count": 6,
   "metadata": {},
   "outputs": [],
   "source": [
    "import re"
   ]
  },
  {
   "cell_type": "code",
   "execution_count": 2,
   "metadata": {},
   "outputs": [
    {
     "data": {
      "text/plain": [
       "'public class Patient{\\n    public boolean isValidPatient() {\\n        boolean b = age >= 0 && age <= 120 && email.endsWith(\"@gmail.com\");\\n        return b;\\n    }}'"
      ]
     },
     "execution_count": 2,
     "metadata": {},
     "output_type": "execute_result"
    }
   ],
   "source": [
    "text"
   ]
  },
  {
   "cell_type": "code",
   "execution_count": 3,
   "metadata": {},
   "outputs": [],
   "source": [
    "tokens=text.split()"
   ]
  },
  {
   "cell_type": "code",
   "execution_count": 4,
   "metadata": {},
   "outputs": [
    {
     "data": {
      "text/plain": [
       "['public',\n",
       " 'class',\n",
       " 'Patient{',\n",
       " 'public',\n",
       " 'boolean',\n",
       " 'isValidPatient()',\n",
       " '{',\n",
       " 'boolean',\n",
       " 'b',\n",
       " '=',\n",
       " 'age',\n",
       " '>=',\n",
       " '0',\n",
       " '&&',\n",
       " 'age',\n",
       " '<=',\n",
       " '120',\n",
       " '&&',\n",
       " 'email.endsWith(\"@gmail.com\");',\n",
       " 'return',\n",
       " 'b;',\n",
       " '}}']"
      ]
     },
     "execution_count": 4,
     "metadata": {},
     "output_type": "execute_result"
    }
   ],
   "source": [
    "tokens"
   ]
  },
  {
   "cell_type": "code",
   "execution_count": 7,
   "metadata": {},
   "outputs": [],
   "source": [
    "patn = re.sub(r\"[\\([{})\\]]\", \"\", text)"
   ]
  },
  {
   "cell_type": "code",
   "execution_count": 8,
   "metadata": {},
   "outputs": [
    {
     "data": {
      "text/plain": [
       "'public class Patient\\n    public boolean isValidPatient \\n        boolean b = age >= 0 && age <= 120 && email.endsWith\"@gmail.com\";\\n        return b;\\n    '"
      ]
     },
     "execution_count": 8,
     "metadata": {},
     "output_type": "execute_result"
    }
   ],
   "source": [
    "patn"
   ]
  },
  {
   "cell_type": "code",
   "execution_count": 9,
   "metadata": {},
   "outputs": [],
   "source": [
    "patn=patn.replace(\"&&\",\"\")\n",
    "patn=patn.replace(\";\",\"\")"
   ]
  },
  {
   "cell_type": "code",
   "execution_count": 10,
   "metadata": {},
   "outputs": [
    {
     "data": {
      "text/plain": [
       "['public',\n",
       " 'class',\n",
       " 'Patient',\n",
       " 'public',\n",
       " 'boolean',\n",
       " 'isValidPatient',\n",
       " 'boolean',\n",
       " 'b',\n",
       " '=',\n",
       " 'age',\n",
       " '>=',\n",
       " '0',\n",
       " 'age',\n",
       " '<=',\n",
       " '120',\n",
       " 'email.endsWith\"@gmail.com\"',\n",
       " 'return',\n",
       " 'b']"
      ]
     },
     "execution_count": 10,
     "metadata": {},
     "output_type": "execute_result"
    }
   ],
   "source": [
    "tokens=patn.split()\n",
    "tokens"
   ]
  },
  {
   "cell_type": "code",
   "execution_count": null,
   "metadata": {},
   "outputs": [],
   "source": []
  }
 ],
 "metadata": {
  "kernelspec": {
   "display_name": "Python 3",
   "language": "python",
   "name": "python3"
  },
  "language_info": {
   "codemirror_mode": {
    "name": "ipython",
    "version": 3
   },
   "file_extension": ".py",
   "mimetype": "text/x-python",
   "name": "python",
   "nbconvert_exporter": "python",
   "pygments_lexer": "ipython3",
   "version": "3.10.4"
  },
  "orig_nbformat": 4
 },
 "nbformat": 4,
 "nbformat_minor": 2
}
